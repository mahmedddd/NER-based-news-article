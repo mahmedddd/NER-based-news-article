{
  "nbformat": 4,
  "nbformat_minor": 0,
  "metadata": {
    "colab": {
      "provenance": []
    },
    "kernelspec": {
      "name": "python3",
      "display_name": "Python 3"
    },
    "language_info": {
      "name": "python"
    }
  },
  "cells": [
    {
      "cell_type": "markdown",
      "source": [
        "# **NER for News Articles**"
      ],
      "metadata": {
        "id": "atXfvnY5_tzO"
      }
    },
    {
      "cell_type": "code",
      "source": [
        "import os\n",
        "import shutil\n",
        "\n",
        "repo_path = \"/content/NER-based-news-article\"\n",
        "\n",
        "# Change directory to /content (or anywhere safe) before deleting\n",
        "os.chdir(\"/content\")\n",
        "\n",
        "if os.path.exists(repo_path):\n",
        "    shutil.rmtree(repo_path)\n",
        "    print(f\"Deleted existing folder: {repo_path}\")\n",
        "\n",
        "from getpass import getpass\n",
        "\n",
        "username = \"mahmedddd\"\n",
        "repo_name = \"NER-based-news-article\"\n",
        "token = getpass(\"Enter your GitHub token: \")\n",
        "\n",
        "repo_url = f\"https://{token}@github.com/{username}/{repo_name}.git\"\n",
        "\n",
        "# Now clone fresh\n",
        "!git clone $repo_url\n",
        "\n",
        "\n",
        "repo_path = f\"/content/{repo_name}\"\n",
        "os.makedirs(f\"{repo_path}/data\", exist_ok=True)\n",
        "\n",
        "# Move the IMDB dataset into repo's data directory\n",
        "!cp \"/content/CoNLL003.zip\" \"{repo_path}/data/CoNLL003.zip\"\n",
        "\n",
        "# # Remove this block to ensure dataset is NOT ignored\n",
        "# with open(f\"{repo_path}/.gitignore\", \"w\") as f:\n",
        "#     f.write(\"data/IMDB_Dataset.csv\\n\")\n",
        "\n",
        "readme_content = textwrap.dedent(\"\"\"\n",
        "\n",
        "    # NER for News Articles\n",
        "\n",
        "    This repository demonstrates Named Entity Recognition (NER) techniques on news articles using spaCy. It includes loading CoNLL formatted datasets, extracting named entities with pretrained and custom spaCy pipelines, and comparing different spaCy models.\n",
        "\n",
        "    ## Requirements\n",
        "\n",
        "    **install individually:**\n",
        "\n",
        "    ```bash\n",
        "    pip install pandas matplotlib seaborn spacy\n",
        "    ```\n",
        "\n",
        "    ## Libraries Used\n",
        "\n",
        "    - **pandas** – For data loading and manipulation\n",
        "    - **matplotlib** – For plotting graphs\n",
        "    - **seaborn** – For advanced visualizations\n",
        "    - **spaCy** – For NLP tasks (tokenization, lemmatization, stopword removal)\n",
        "\"\"\")\n",
        "\n",
        "with open(f\"{repo_path}/README.md\", \"w\") as f:\n",
        "    f.write(readme_content)\n",
        "\n",
        "# Add, commit, and push repo changes\n",
        "%cd {repo_path}\n",
        "!git config --global user.email \"ahmedunited902@gmail.com\"\n",
        "!git config --global user.name \"mahmedddd\"\n",
        "\n",
        "!git add .\n",
        "!git commit -m \"Initial commit with README and dataset included\"\n",
        "!git push origin main\n"
      ],
      "metadata": {
        "colab": {
          "base_uri": "https://localhost:8080/"
        },
        "id": "po6SQRgd7IBx",
        "outputId": "2ef2d96f-8aa6-4541-df8d-da971c38cb2b"
      },
      "execution_count": 11,
      "outputs": [
        {
          "output_type": "stream",
          "name": "stdout",
          "text": [
            "Deleted existing folder: /content/NER-based-news-article\n",
            "Enter your GitHub token: ··········\n",
            "Cloning into 'NER-based-news-article'...\n",
            "warning: You appear to have cloned an empty repository.\n",
            "/content/NER-based-news-article\n",
            "[main (root-commit) e51d68c] Initial commit with README and dataset included\n",
            " 2 files changed, 20 insertions(+)\n",
            " create mode 100644 README.md\n",
            " create mode 100644 data/CoNLL003.zip\n",
            "Enumerating objects: 5, done.\n",
            "Counting objects: 100% (5/5), done.\n",
            "Delta compression using up to 2 threads\n",
            "Compressing objects: 100% (4/4), done.\n",
            "Writing objects: 100% (5/5), 960.81 KiB | 18.84 MiB/s, done.\n",
            "Total 5 (delta 0), reused 0 (delta 0), pack-reused 0\n",
            "To https://github.com/mahmedddd/NER-based-news-article.git\n",
            " * [new branch]      main -> main\n"
          ]
        }
      ]
    },
    {
      "cell_type": "code",
      "source": [
        "with open(\"CoNLL003.zip\", \"r\", encoding=\"utf-8\") as f:\n",
        "    content = f.read(500)\n",
        "print(content)\n"
      ],
      "metadata": {
        "colab": {
          "base_uri": "https://localhost:8080/"
        },
        "id": "3z32I8rNCHR0",
        "outputId": "46bfeb4d-ec0c-4f26-c643-fe0aec5a6c11"
      },
      "execution_count": 16,
      "outputs": [
        {
          "output_type": "stream",
          "name": "stdout",
          "text": [
            "\n",
            "\n",
            "\n",
            "\n",
            "\n",
            "\n",
            "<!DOCTYPE html>\n",
            "<html\n",
            "  lang=\"en\"\n",
            "  \n",
            "  data-color-mode=\"auto\" data-light-theme=\"light\" data-dark-theme=\"dark\"\n",
            "  data-a11y-animated-images=\"system\" data-a11y-link-underlines=\"true\"\n",
            "  \n",
            "  >\n",
            "\n",
            "\n",
            "\n",
            "\n",
            "  <head>\n",
            "    <meta charset=\"utf-8\">\n",
            "  <link rel=\"dns-prefetch\" href=\"https://github.githubassets.com\">\n",
            "  <link rel=\"dns-prefetch\" href=\"https://avatars.githubusercontent.com\">\n",
            "  <link rel=\"dns-prefetch\" href=\"https://github-cloud.s3.amazonaws.com\">\n",
            "  <link rel=\"dns-prefetch\" href=\"https://user-images.g\n"
          ]
        }
      ]
    },
    {
      "cell_type": "markdown",
      "source": [
        "### Download and Extract CoNLL003 Dataset from GitHub"
      ],
      "metadata": {
        "id": "U5sJJdcJ_iQK"
      }
    },
    {
      "cell_type": "code",
      "execution_count": 22,
      "metadata": {
        "colab": {
          "base_uri": "https://localhost:8080/"
        },
        "id": "IQW4hzYMjlWn",
        "outputId": "7fe7bd63-95a3-45d1-c4b3-ee36d4ced72f"
      },
      "outputs": [
        {
          "output_type": "stream",
          "name": "stdout",
          "text": [
            "--2025-08-09 09:01:14--  https://raw.githubusercontent.com/mahmedddd/NER-based-news-article/main/data/CoNLL003.zip\n",
            "Resolving raw.githubusercontent.com (raw.githubusercontent.com)... 185.199.108.133, 185.199.111.133, 185.199.109.133, ...\n",
            "Connecting to raw.githubusercontent.com (raw.githubusercontent.com)|185.199.108.133|:443... connected.\n",
            "HTTP request sent, awaiting response... 200 OK\n",
            "Length: 982975 (960K) [application/zip]\n",
            "Saving to: ‘CoNLL003.zip.8’\n",
            "\n",
            "\rCoNLL003.zip.8        0%[                    ]       0  --.-KB/s               \rCoNLL003.zip.8      100%[===================>] 959.94K  --.-KB/s    in 0.03s   \n",
            "\n",
            "2025-08-09 09:01:14 (35.5 MB/s) - ‘CoNLL003.zip.8’ saved [982975/982975]\n",
            "\n",
            "['test.txt', 'train.txt', 'metadata', 'valid.txt']\n"
          ]
        }
      ],
      "source": [
        "!wget https://raw.githubusercontent.com/mahmedddd/NER-based-news-article/main/data/CoNLL003.zip\n",
        "\n",
        "import zipfile\n",
        "\n",
        "with zipfile.ZipFile(\"CoNLL003.zip.7\", \"r\") as zip_ref:\n",
        "    zip_ref.extractall(\"CoNLL003\")\n",
        "\n",
        "\n",
        "import os\n",
        "print(os.listdir(\"CoNLL003\"))\n"
      ]
    },
    {
      "cell_type": "markdown",
      "source": [
        "###  Load CoNLL File Format into Python"
      ],
      "metadata": {
        "id": "fvmFJ_89ALCM"
      }
    },
    {
      "cell_type": "code",
      "source": [
        "def load_conll_file(filepath):\n",
        "    data = []\n",
        "    with open(filepath, \"r\", encoding=\"utf-8\") as f:\n",
        "        sentence = []\n",
        "        for line in f:\n",
        "            if line.strip():\n",
        "                tokens = line.strip().split()\n",
        "                if len(tokens) == 4:\n",
        "                    sentence.append((tokens[0], tokens[-1]))  # word, ner_tag\n",
        "            else:\n",
        "                if sentence:\n",
        "                    data.append(sentence)\n",
        "                    sentence = []\n",
        "    return data\n",
        "\n",
        "# Load training data\n",
        "train_path = \"CoNLL003/train.txt\"\n",
        "train_data = load_conll_file(train_path)\n",
        "print(\"Total sentences:\", len(train_data))\n",
        "print(\"Sample sentence:\", train_data[0])\n"
      ],
      "metadata": {
        "colab": {
          "base_uri": "https://localhost:8080/"
        },
        "id": "mSEhZvXInvz7",
        "outputId": "7caf15d2-ab06-442c-8a24-646eff8abd8c"
      },
      "execution_count": null,
      "outputs": [
        {
          "output_type": "stream",
          "name": "stdout",
          "text": [
            "Total sentences: 14987\n",
            "Sample sentence: [('-DOCSTART-', 'O')]\n"
          ]
        }
      ]
    },
    {
      "cell_type": "code",
      "source": [
        "import pandas as pd\n",
        "import spacy\n",
        "from spacy.pipeline import EntityRuler\n",
        "from spacy import displacy\n",
        "import os\n",
        "\n",
        "# Load spaCy model\n",
        "nlp = spacy.load(\"en_core_web_sm\")\n"
      ],
      "metadata": {
        "id": "qX-8f21On3oT"
      },
      "execution_count": null,
      "outputs": []
    },
    {
      "cell_type": "code",
      "source": [
        "def load_conll_file(filepath):\n",
        "    data = []\n",
        "    with open(filepath, \"r\", encoding=\"utf-8\") as f:\n",
        "        sentence = []\n",
        "        for line in f:\n",
        "            if line.strip():\n",
        "                tokens = line.strip().split()\n",
        "                if len(tokens) == 4:\n",
        "                    sentence.append((tokens[0], tokens[-1]))  # word, ner_tag\n",
        "            else:\n",
        "                if sentence:\n",
        "                    data.append(sentence)\n",
        "                    sentence = []\n",
        "    return data\n",
        "train_data = load_conll_file(\"CoNLL003/train.txt\")\n",
        "\n",
        "print(f\"Train: {len(train_data)}\")\n"
      ],
      "metadata": {
        "colab": {
          "base_uri": "https://localhost:8080/"
        },
        "id": "GCNxs0C2w6-G",
        "outputId": "85b4d49c-2363-4d82-8da8-9ab022181e8a"
      },
      "execution_count": null,
      "outputs": [
        {
          "output_type": "stream",
          "name": "stdout",
          "text": [
            "Train: 14987\n"
          ]
        }
      ]
    },
    {
      "cell_type": "code",
      "source": [
        "def extract_all_ner(nlp_model, dataset, source=\"unknown\"):\n",
        "    all_ents = []\n",
        "\n",
        "    for sent in dataset:\n",
        "        text = \" \".join([word for word, tag in sent])\n",
        "        doc = nlp_model(text)\n",
        "        for ent in doc.ents:\n",
        "            all_ents.append({\n",
        "                \"Entity\": ent.text,\n",
        "                \"Label\": ent.label_,\n",
        "                \"Sentence\": text,\n",
        "                \"Source\": source\n",
        "            })\n",
        "    return pd.DataFrame(all_ents)\n"
      ],
      "metadata": {
        "id": "dE9bRsSKx1b-"
      },
      "execution_count": null,
      "outputs": []
    },
    {
      "cell_type": "markdown",
      "source": [
        "### Extracting Entities Using spaCy's Pretrained Model"
      ],
      "metadata": {
        "id": "xqHdYqUIAiCe"
      }
    },
    {
      "cell_type": "code",
      "source": [
        "df_train_ents = extract_all_ner(nlp, train_data, \"train\")\n",
        "df_all = pd.concat([df_train_ents], ignore_index=True)\n",
        "print(\"Total Entities Extracted:\", len(df_all))\n",
        "df_all.head()\n"
      ],
      "metadata": {
        "colab": {
          "base_uri": "https://localhost:8080/",
          "height": 224
        },
        "id": "8Z9DAYnyx6Ty",
        "outputId": "18db921b-d584-4b07-c6b3-30ee749a8a47"
      },
      "execution_count": null,
      "outputs": [
        {
          "output_type": "stream",
          "name": "stdout",
          "text": [
            "Total Entities Extracted: 35225\n"
          ]
        },
        {
          "output_type": "execute_result",
          "data": {
            "text/plain": [
              "            Entity   Label                                          Sentence  \\\n",
              "0               EU     ORG  EU rejects German call to boycott British lamb .   \n",
              "1           German    NORP  EU rejects German call to boycott British lamb .   \n",
              "2          British    NORP  EU rejects German call to boycott British lamb .   \n",
              "3  Peter Blackburn  PERSON                                   Peter Blackburn   \n",
              "4         BRUSSELS     GPE                               BRUSSELS 1996-08-22   \n",
              "\n",
              "  Source  \n",
              "0  train  \n",
              "1  train  \n",
              "2  train  \n",
              "3  train  \n",
              "4  train  "
            ],
            "text/html": [
              "\n",
              "  <div id=\"df-cf110c38-eccd-4885-a783-1f6ad848f961\" class=\"colab-df-container\">\n",
              "    <div>\n",
              "<style scoped>\n",
              "    .dataframe tbody tr th:only-of-type {\n",
              "        vertical-align: middle;\n",
              "    }\n",
              "\n",
              "    .dataframe tbody tr th {\n",
              "        vertical-align: top;\n",
              "    }\n",
              "\n",
              "    .dataframe thead th {\n",
              "        text-align: right;\n",
              "    }\n",
              "</style>\n",
              "<table border=\"1\" class=\"dataframe\">\n",
              "  <thead>\n",
              "    <tr style=\"text-align: right;\">\n",
              "      <th></th>\n",
              "      <th>Entity</th>\n",
              "      <th>Label</th>\n",
              "      <th>Sentence</th>\n",
              "      <th>Source</th>\n",
              "    </tr>\n",
              "  </thead>\n",
              "  <tbody>\n",
              "    <tr>\n",
              "      <th>0</th>\n",
              "      <td>EU</td>\n",
              "      <td>ORG</td>\n",
              "      <td>EU rejects German call to boycott British lamb .</td>\n",
              "      <td>train</td>\n",
              "    </tr>\n",
              "    <tr>\n",
              "      <th>1</th>\n",
              "      <td>German</td>\n",
              "      <td>NORP</td>\n",
              "      <td>EU rejects German call to boycott British lamb .</td>\n",
              "      <td>train</td>\n",
              "    </tr>\n",
              "    <tr>\n",
              "      <th>2</th>\n",
              "      <td>British</td>\n",
              "      <td>NORP</td>\n",
              "      <td>EU rejects German call to boycott British lamb .</td>\n",
              "      <td>train</td>\n",
              "    </tr>\n",
              "    <tr>\n",
              "      <th>3</th>\n",
              "      <td>Peter Blackburn</td>\n",
              "      <td>PERSON</td>\n",
              "      <td>Peter Blackburn</td>\n",
              "      <td>train</td>\n",
              "    </tr>\n",
              "    <tr>\n",
              "      <th>4</th>\n",
              "      <td>BRUSSELS</td>\n",
              "      <td>GPE</td>\n",
              "      <td>BRUSSELS 1996-08-22</td>\n",
              "      <td>train</td>\n",
              "    </tr>\n",
              "  </tbody>\n",
              "</table>\n",
              "</div>\n",
              "    <div class=\"colab-df-buttons\">\n",
              "\n",
              "  <div class=\"colab-df-container\">\n",
              "    <button class=\"colab-df-convert\" onclick=\"convertToInteractive('df-cf110c38-eccd-4885-a783-1f6ad848f961')\"\n",
              "            title=\"Convert this dataframe to an interactive table.\"\n",
              "            style=\"display:none;\">\n",
              "\n",
              "  <svg xmlns=\"http://www.w3.org/2000/svg\" height=\"24px\" viewBox=\"0 -960 960 960\">\n",
              "    <path d=\"M120-120v-720h720v720H120Zm60-500h600v-160H180v160Zm220 220h160v-160H400v160Zm0 220h160v-160H400v160ZM180-400h160v-160H180v160Zm440 0h160v-160H620v160ZM180-180h160v-160H180v160Zm440 0h160v-160H620v160Z\"/>\n",
              "  </svg>\n",
              "    </button>\n",
              "\n",
              "  <style>\n",
              "    .colab-df-container {\n",
              "      display:flex;\n",
              "      gap: 12px;\n",
              "    }\n",
              "\n",
              "    .colab-df-convert {\n",
              "      background-color: #E8F0FE;\n",
              "      border: none;\n",
              "      border-radius: 50%;\n",
              "      cursor: pointer;\n",
              "      display: none;\n",
              "      fill: #1967D2;\n",
              "      height: 32px;\n",
              "      padding: 0 0 0 0;\n",
              "      width: 32px;\n",
              "    }\n",
              "\n",
              "    .colab-df-convert:hover {\n",
              "      background-color: #E2EBFA;\n",
              "      box-shadow: 0px 1px 2px rgba(60, 64, 67, 0.3), 0px 1px 3px 1px rgba(60, 64, 67, 0.15);\n",
              "      fill: #174EA6;\n",
              "    }\n",
              "\n",
              "    .colab-df-buttons div {\n",
              "      margin-bottom: 4px;\n",
              "    }\n",
              "\n",
              "    [theme=dark] .colab-df-convert {\n",
              "      background-color: #3B4455;\n",
              "      fill: #D2E3FC;\n",
              "    }\n",
              "\n",
              "    [theme=dark] .colab-df-convert:hover {\n",
              "      background-color: #434B5C;\n",
              "      box-shadow: 0px 1px 3px 1px rgba(0, 0, 0, 0.15);\n",
              "      filter: drop-shadow(0px 1px 2px rgba(0, 0, 0, 0.3));\n",
              "      fill: #FFFFFF;\n",
              "    }\n",
              "  </style>\n",
              "\n",
              "    <script>\n",
              "      const buttonEl =\n",
              "        document.querySelector('#df-cf110c38-eccd-4885-a783-1f6ad848f961 button.colab-df-convert');\n",
              "      buttonEl.style.display =\n",
              "        google.colab.kernel.accessAllowed ? 'block' : 'none';\n",
              "\n",
              "      async function convertToInteractive(key) {\n",
              "        const element = document.querySelector('#df-cf110c38-eccd-4885-a783-1f6ad848f961');\n",
              "        const dataTable =\n",
              "          await google.colab.kernel.invokeFunction('convertToInteractive',\n",
              "                                                    [key], {});\n",
              "        if (!dataTable) return;\n",
              "\n",
              "        const docLinkHtml = 'Like what you see? Visit the ' +\n",
              "          '<a target=\"_blank\" href=https://colab.research.google.com/notebooks/data_table.ipynb>data table notebook</a>'\n",
              "          + ' to learn more about interactive tables.';\n",
              "        element.innerHTML = '';\n",
              "        dataTable['output_type'] = 'display_data';\n",
              "        await google.colab.output.renderOutput(dataTable, element);\n",
              "        const docLink = document.createElement('div');\n",
              "        docLink.innerHTML = docLinkHtml;\n",
              "        element.appendChild(docLink);\n",
              "      }\n",
              "    </script>\n",
              "  </div>\n",
              "\n",
              "\n",
              "    <div id=\"df-6993f65a-393d-4255-ab45-4052ba5b2aa6\">\n",
              "      <button class=\"colab-df-quickchart\" onclick=\"quickchart('df-6993f65a-393d-4255-ab45-4052ba5b2aa6')\"\n",
              "                title=\"Suggest charts\"\n",
              "                style=\"display:none;\">\n",
              "\n",
              "<svg xmlns=\"http://www.w3.org/2000/svg\" height=\"24px\"viewBox=\"0 0 24 24\"\n",
              "     width=\"24px\">\n",
              "    <g>\n",
              "        <path d=\"M19 3H5c-1.1 0-2 .9-2 2v14c0 1.1.9 2 2 2h14c1.1 0 2-.9 2-2V5c0-1.1-.9-2-2-2zM9 17H7v-7h2v7zm4 0h-2V7h2v10zm4 0h-2v-4h2v4z\"/>\n",
              "    </g>\n",
              "</svg>\n",
              "      </button>\n",
              "\n",
              "<style>\n",
              "  .colab-df-quickchart {\n",
              "      --bg-color: #E8F0FE;\n",
              "      --fill-color: #1967D2;\n",
              "      --hover-bg-color: #E2EBFA;\n",
              "      --hover-fill-color: #174EA6;\n",
              "      --disabled-fill-color: #AAA;\n",
              "      --disabled-bg-color: #DDD;\n",
              "  }\n",
              "\n",
              "  [theme=dark] .colab-df-quickchart {\n",
              "      --bg-color: #3B4455;\n",
              "      --fill-color: #D2E3FC;\n",
              "      --hover-bg-color: #434B5C;\n",
              "      --hover-fill-color: #FFFFFF;\n",
              "      --disabled-bg-color: #3B4455;\n",
              "      --disabled-fill-color: #666;\n",
              "  }\n",
              "\n",
              "  .colab-df-quickchart {\n",
              "    background-color: var(--bg-color);\n",
              "    border: none;\n",
              "    border-radius: 50%;\n",
              "    cursor: pointer;\n",
              "    display: none;\n",
              "    fill: var(--fill-color);\n",
              "    height: 32px;\n",
              "    padding: 0;\n",
              "    width: 32px;\n",
              "  }\n",
              "\n",
              "  .colab-df-quickchart:hover {\n",
              "    background-color: var(--hover-bg-color);\n",
              "    box-shadow: 0 1px 2px rgba(60, 64, 67, 0.3), 0 1px 3px 1px rgba(60, 64, 67, 0.15);\n",
              "    fill: var(--button-hover-fill-color);\n",
              "  }\n",
              "\n",
              "  .colab-df-quickchart-complete:disabled,\n",
              "  .colab-df-quickchart-complete:disabled:hover {\n",
              "    background-color: var(--disabled-bg-color);\n",
              "    fill: var(--disabled-fill-color);\n",
              "    box-shadow: none;\n",
              "  }\n",
              "\n",
              "  .colab-df-spinner {\n",
              "    border: 2px solid var(--fill-color);\n",
              "    border-color: transparent;\n",
              "    border-bottom-color: var(--fill-color);\n",
              "    animation:\n",
              "      spin 1s steps(1) infinite;\n",
              "  }\n",
              "\n",
              "  @keyframes spin {\n",
              "    0% {\n",
              "      border-color: transparent;\n",
              "      border-bottom-color: var(--fill-color);\n",
              "      border-left-color: var(--fill-color);\n",
              "    }\n",
              "    20% {\n",
              "      border-color: transparent;\n",
              "      border-left-color: var(--fill-color);\n",
              "      border-top-color: var(--fill-color);\n",
              "    }\n",
              "    30% {\n",
              "      border-color: transparent;\n",
              "      border-left-color: var(--fill-color);\n",
              "      border-top-color: var(--fill-color);\n",
              "      border-right-color: var(--fill-color);\n",
              "    }\n",
              "    40% {\n",
              "      border-color: transparent;\n",
              "      border-right-color: var(--fill-color);\n",
              "      border-top-color: var(--fill-color);\n",
              "    }\n",
              "    60% {\n",
              "      border-color: transparent;\n",
              "      border-right-color: var(--fill-color);\n",
              "    }\n",
              "    80% {\n",
              "      border-color: transparent;\n",
              "      border-right-color: var(--fill-color);\n",
              "      border-bottom-color: var(--fill-color);\n",
              "    }\n",
              "    90% {\n",
              "      border-color: transparent;\n",
              "      border-bottom-color: var(--fill-color);\n",
              "    }\n",
              "  }\n",
              "</style>\n",
              "\n",
              "      <script>\n",
              "        async function quickchart(key) {\n",
              "          const quickchartButtonEl =\n",
              "            document.querySelector('#' + key + ' button');\n",
              "          quickchartButtonEl.disabled = true;  // To prevent multiple clicks.\n",
              "          quickchartButtonEl.classList.add('colab-df-spinner');\n",
              "          try {\n",
              "            const charts = await google.colab.kernel.invokeFunction(\n",
              "                'suggestCharts', [key], {});\n",
              "          } catch (error) {\n",
              "            console.error('Error during call to suggestCharts:', error);\n",
              "          }\n",
              "          quickchartButtonEl.classList.remove('colab-df-spinner');\n",
              "          quickchartButtonEl.classList.add('colab-df-quickchart-complete');\n",
              "        }\n",
              "        (() => {\n",
              "          let quickchartButtonEl =\n",
              "            document.querySelector('#df-6993f65a-393d-4255-ab45-4052ba5b2aa6 button');\n",
              "          quickchartButtonEl.style.display =\n",
              "            google.colab.kernel.accessAllowed ? 'block' : 'none';\n",
              "        })();\n",
              "      </script>\n",
              "    </div>\n",
              "\n",
              "    </div>\n",
              "  </div>\n"
            ],
            "application/vnd.google.colaboratory.intrinsic+json": {
              "type": "dataframe",
              "variable_name": "df_all",
              "summary": "{\n  \"name\": \"df_all\",\n  \"rows\": 35225,\n  \"fields\": [\n    {\n      \"column\": \"Entity\",\n      \"properties\": {\n        \"dtype\": \"category\",\n        \"num_unique_values\": 12897,\n        \"samples\": [\n          \"Continental\",\n          \"Loznica\",\n          \"Germany\"\n        ],\n        \"semantic_type\": \"\",\n        \"description\": \"\"\n      }\n    },\n    {\n      \"column\": \"Label\",\n      \"properties\": {\n        \"dtype\": \"category\",\n        \"num_unique_values\": 18,\n        \"samples\": [\n          \"ORG\",\n          \"NORP\",\n          \"PERCENT\"\n        ],\n        \"semantic_type\": \"\",\n        \"description\": \"\"\n      }\n    },\n    {\n      \"column\": \"Sentence\",\n      \"properties\": {\n        \"dtype\": \"category\",\n        \"num_unique_values\": 11177,\n        \"samples\": [\n          \"Iran asks Bonn to extradite ex-president Banisadr .\",\n          \"The official state news agency Petra said Kabariti would hold discussions \\\" on the latest developments in the peace process and bilateral cooperation \\\" .\",\n          \"But at 36 it would be asking too much of Paul , \\\" he said .\"\n        ],\n        \"semantic_type\": \"\",\n        \"description\": \"\"\n      }\n    },\n    {\n      \"column\": \"Source\",\n      \"properties\": {\n        \"dtype\": \"category\",\n        \"num_unique_values\": 1,\n        \"samples\": [\n          \"train\"\n        ],\n        \"semantic_type\": \"\",\n        \"description\": \"\"\n      }\n    }\n  ]\n}"
            }
          },
          "metadata": {},
          "execution_count": 8
        }
      ]
    },
    {
      "cell_type": "markdown",
      "source": [
        "### Visualize Top Entities by NER Label"
      ],
      "metadata": {
        "id": "huZ9tIV6A3e3"
      }
    },
    {
      "cell_type": "code",
      "source": [
        "grouped = df_all.groupby(\"Label\")[\"Entity\"].value_counts().groupby(level=0).head(5)\n",
        "print(\"Top 5 Entities per Label:\\n\")\n",
        "print(grouped)\n"
      ],
      "metadata": {
        "colab": {
          "base_uri": "https://localhost:8080/"
        },
        "id": "IDLnycPWx_jS",
        "outputId": "95de9b17-ad27-4d4f-a5ea-11e21e0af781"
      },
      "execution_count": null,
      "outputs": [
        {
          "output_type": "stream",
          "name": "stdout",
          "text": [
            "Top 5 Entities per Label:\n",
            "\n",
            "Label        Entity                     \n",
            "CARDINAL     1                              342\n",
            "             6                              318\n",
            "             two                            275\n",
            "             2                              273\n",
            "             3                              258\n",
            "                                           ... \n",
            "WORK_OF_ART  Wimbledon                        5\n",
            "             the Nobel Peace Prize            5\n",
            "             the Tour of the Netherlands      5\n",
            "             Mission : Impossible             3\n",
            "             Australian Open                  2\n",
            "Name: count, Length: 89, dtype: int64\n"
          ]
        }
      ]
    },
    {
      "cell_type": "markdown",
      "source": [
        "### Custom Rule-Based NER with EntityRuler"
      ],
      "metadata": {
        "id": "AVXUm3zsA9yC"
      }
    },
    {
      "cell_type": "code",
      "source": [
        "ruler = nlp.add_pipe(\"entity_ruler\", before=\"ner\")\n",
        "\n",
        "patterns = [\n",
        "    {\"label\": \"ORG\", \"pattern\": \"OpenAI\"},\n",
        "    {\"label\": \"GPE\", \"pattern\": \"Pakistan\"},\n",
        "    {\"label\": \"PERSON\", \"pattern\": \"Elon Musk\"},\n",
        "    {\"label\": \"ORG\", \"pattern\": \"United Nations\"},\n",
        "]\n",
        "ruler.add_patterns(patterns)\n"
      ],
      "metadata": {
        "id": "63IZVvSO0gUD"
      },
      "execution_count": null,
      "outputs": []
    },
    {
      "cell_type": "markdown",
      "source": [
        "###Test Custom EntityRuler with Sample Text"
      ],
      "metadata": {
        "id": "7UPDW075BCzA"
      }
    },
    {
      "cell_type": "code",
      "source": [
        "sample = \"Elon Musk visited the United Nations headquarters in Pakistan. OpenAI was also there.\"\n",
        "doc = nlp(sample)\n",
        "\n",
        "for ent in doc.ents:\n",
        "    print(ent.text, \"->\", ent.label_)\n",
        "displacy.render(doc, style=\"ent\", jupyter=True)\n"
      ],
      "metadata": {
        "colab": {
          "base_uri": "https://localhost:8080/",
          "height": 156
        },
        "id": "mfDoabhk0_hZ",
        "outputId": "57cfc55c-db85-4812-a469-b00c3bebe548"
      },
      "execution_count": null,
      "outputs": [
        {
          "output_type": "stream",
          "name": "stdout",
          "text": [
            "Elon Musk -> PERSON\n",
            "United Nations -> ORG\n",
            "Pakistan -> GPE\n",
            "OpenAI -> ORG\n"
          ]
        },
        {
          "output_type": "display_data",
          "data": {
            "text/plain": [
              "<IPython.core.display.HTML object>"
            ],
            "text/html": [
              "<span class=\"tex2jax_ignore\"><div class=\"entities\" style=\"line-height: 2.5; direction: ltr\">\n",
              "<mark class=\"entity\" style=\"background: #aa9cfc; padding: 0.45em 0.6em; margin: 0 0.25em; line-height: 1; border-radius: 0.35em;\">\n",
              "    Elon Musk\n",
              "    <span style=\"font-size: 0.8em; font-weight: bold; line-height: 1; border-radius: 0.35em; vertical-align: middle; margin-left: 0.5rem\">PERSON</span>\n",
              "</mark>\n",
              " visited the \n",
              "<mark class=\"entity\" style=\"background: #7aecec; padding: 0.45em 0.6em; margin: 0 0.25em; line-height: 1; border-radius: 0.35em;\">\n",
              "    United Nations\n",
              "    <span style=\"font-size: 0.8em; font-weight: bold; line-height: 1; border-radius: 0.35em; vertical-align: middle; margin-left: 0.5rem\">ORG</span>\n",
              "</mark>\n",
              " headquarters in \n",
              "<mark class=\"entity\" style=\"background: #feca74; padding: 0.45em 0.6em; margin: 0 0.25em; line-height: 1; border-radius: 0.35em;\">\n",
              "    Pakistan\n",
              "    <span style=\"font-size: 0.8em; font-weight: bold; line-height: 1; border-radius: 0.35em; vertical-align: middle; margin-left: 0.5rem\">GPE</span>\n",
              "</mark>\n",
              ". \n",
              "<mark class=\"entity\" style=\"background: #7aecec; padding: 0.45em 0.6em; margin: 0 0.25em; line-height: 1; border-radius: 0.35em;\">\n",
              "    OpenAI\n",
              "    <span style=\"font-size: 0.8em; font-weight: bold; line-height: 1; border-radius: 0.35em; vertical-align: middle; margin-left: 0.5rem\">ORG</span>\n",
              "</mark>\n",
              " was also there.</div></span>"
            ]
          },
          "metadata": {}
        }
      ]
    },
    {
      "cell_type": "markdown",
      "source": [
        "### Load and Compare spaCy Models (Small vs Transformer)"
      ],
      "metadata": {
        "id": "i5SV0fzhBIky"
      }
    },
    {
      "cell_type": "code",
      "source": [
        "# Load both models\n",
        "nlp_sm = spacy.load(\"en_core_web_sm\")\n",
        "# Download and load the transformer model\n",
        "!python -m spacy download en_core_web_trf\n",
        "nlp_trf = spacy.load(\"en_core_web_trf\")\n",
        "\n"
      ],
      "metadata": {
        "colab": {
          "base_uri": "https://localhost:8080/"
        },
        "collapsed": true,
        "id": "9xTfQKmd1dC7",
        "outputId": "20acad62-dfcb-4bd1-d680-574a358a55c3"
      },
      "execution_count": null,
      "outputs": [
        {
          "output_type": "stream",
          "name": "stdout",
          "text": [
            "Collecting en-core-web-trf==3.8.0\n",
            "  Downloading https://github.com/explosion/spacy-models/releases/download/en_core_web_trf-3.8.0/en_core_web_trf-3.8.0-py3-none-any.whl (457.4 MB)\n",
            "\u001b[2K     \u001b[90m━━━━━━━━━━━━━━━━━━━━━━━━━━━━━━━━━━━━━━━\u001b[0m \u001b[32m457.4/457.4 MB\u001b[0m \u001b[31m2.7 MB/s\u001b[0m eta \u001b[36m0:00:00\u001b[0m\n",
            "\u001b[?25hRequirement already satisfied: spacy-curated-transformers<1.0.0,>=0.2.2 in /usr/local/lib/python3.11/dist-packages (from en-core-web-trf==3.8.0) (0.3.1)\n",
            "Requirement already satisfied: curated-transformers<0.2.0,>=0.1.0 in /usr/local/lib/python3.11/dist-packages (from spacy-curated-transformers<1.0.0,>=0.2.2->en-core-web-trf==3.8.0) (0.1.1)\n",
            "Requirement already satisfied: curated-tokenizers<0.1.0,>=0.0.9 in /usr/local/lib/python3.11/dist-packages (from spacy-curated-transformers<1.0.0,>=0.2.2->en-core-web-trf==3.8.0) (0.0.9)\n",
            "Requirement already satisfied: torch>=1.12.0 in /usr/local/lib/python3.11/dist-packages (from spacy-curated-transformers<1.0.0,>=0.2.2->en-core-web-trf==3.8.0) (2.6.0+cu124)\n",
            "Requirement already satisfied: regex>=2022 in /usr/local/lib/python3.11/dist-packages (from curated-tokenizers<0.1.0,>=0.0.9->spacy-curated-transformers<1.0.0,>=0.2.2->en-core-web-trf==3.8.0) (2024.11.6)\n",
            "Requirement already satisfied: filelock in /usr/local/lib/python3.11/dist-packages (from torch>=1.12.0->spacy-curated-transformers<1.0.0,>=0.2.2->en-core-web-trf==3.8.0) (3.18.0)\n",
            "Requirement already satisfied: typing-extensions>=4.10.0 in /usr/local/lib/python3.11/dist-packages (from torch>=1.12.0->spacy-curated-transformers<1.0.0,>=0.2.2->en-core-web-trf==3.8.0) (4.14.1)\n",
            "Requirement already satisfied: networkx in /usr/local/lib/python3.11/dist-packages (from torch>=1.12.0->spacy-curated-transformers<1.0.0,>=0.2.2->en-core-web-trf==3.8.0) (3.5)\n",
            "Requirement already satisfied: jinja2 in /usr/local/lib/python3.11/dist-packages (from torch>=1.12.0->spacy-curated-transformers<1.0.0,>=0.2.2->en-core-web-trf==3.8.0) (3.1.6)\n",
            "Requirement already satisfied: fsspec in /usr/local/lib/python3.11/dist-packages (from torch>=1.12.0->spacy-curated-transformers<1.0.0,>=0.2.2->en-core-web-trf==3.8.0) (2025.3.0)\n",
            "Requirement already satisfied: nvidia-cuda-nvrtc-cu12==12.4.127 in /usr/local/lib/python3.11/dist-packages (from torch>=1.12.0->spacy-curated-transformers<1.0.0,>=0.2.2->en-core-web-trf==3.8.0) (12.4.127)\n",
            "Requirement already satisfied: nvidia-cuda-runtime-cu12==12.4.127 in /usr/local/lib/python3.11/dist-packages (from torch>=1.12.0->spacy-curated-transformers<1.0.0,>=0.2.2->en-core-web-trf==3.8.0) (12.4.127)\n",
            "Requirement already satisfied: nvidia-cuda-cupti-cu12==12.4.127 in /usr/local/lib/python3.11/dist-packages (from torch>=1.12.0->spacy-curated-transformers<1.0.0,>=0.2.2->en-core-web-trf==3.8.0) (12.4.127)\n",
            "Requirement already satisfied: nvidia-cudnn-cu12==9.1.0.70 in /usr/local/lib/python3.11/dist-packages (from torch>=1.12.0->spacy-curated-transformers<1.0.0,>=0.2.2->en-core-web-trf==3.8.0) (9.1.0.70)\n",
            "Requirement already satisfied: nvidia-cublas-cu12==12.4.5.8 in /usr/local/lib/python3.11/dist-packages (from torch>=1.12.0->spacy-curated-transformers<1.0.0,>=0.2.2->en-core-web-trf==3.8.0) (12.4.5.8)\n",
            "Requirement already satisfied: nvidia-cufft-cu12==11.2.1.3 in /usr/local/lib/python3.11/dist-packages (from torch>=1.12.0->spacy-curated-transformers<1.0.0,>=0.2.2->en-core-web-trf==3.8.0) (11.2.1.3)\n",
            "Requirement already satisfied: nvidia-curand-cu12==10.3.5.147 in /usr/local/lib/python3.11/dist-packages (from torch>=1.12.0->spacy-curated-transformers<1.0.0,>=0.2.2->en-core-web-trf==3.8.0) (10.3.5.147)\n",
            "Requirement already satisfied: nvidia-cusolver-cu12==11.6.1.9 in /usr/local/lib/python3.11/dist-packages (from torch>=1.12.0->spacy-curated-transformers<1.0.0,>=0.2.2->en-core-web-trf==3.8.0) (11.6.1.9)\n",
            "Requirement already satisfied: nvidia-cusparse-cu12==12.3.1.170 in /usr/local/lib/python3.11/dist-packages (from torch>=1.12.0->spacy-curated-transformers<1.0.0,>=0.2.2->en-core-web-trf==3.8.0) (12.3.1.170)\n",
            "Requirement already satisfied: nvidia-cusparselt-cu12==0.6.2 in /usr/local/lib/python3.11/dist-packages (from torch>=1.12.0->spacy-curated-transformers<1.0.0,>=0.2.2->en-core-web-trf==3.8.0) (0.6.2)\n",
            "Requirement already satisfied: nvidia-nccl-cu12==2.21.5 in /usr/local/lib/python3.11/dist-packages (from torch>=1.12.0->spacy-curated-transformers<1.0.0,>=0.2.2->en-core-web-trf==3.8.0) (2.21.5)\n",
            "Requirement already satisfied: nvidia-nvtx-cu12==12.4.127 in /usr/local/lib/python3.11/dist-packages (from torch>=1.12.0->spacy-curated-transformers<1.0.0,>=0.2.2->en-core-web-trf==3.8.0) (12.4.127)\n",
            "Requirement already satisfied: nvidia-nvjitlink-cu12==12.4.127 in /usr/local/lib/python3.11/dist-packages (from torch>=1.12.0->spacy-curated-transformers<1.0.0,>=0.2.2->en-core-web-trf==3.8.0) (12.4.127)\n",
            "Requirement already satisfied: triton==3.2.0 in /usr/local/lib/python3.11/dist-packages (from torch>=1.12.0->spacy-curated-transformers<1.0.0,>=0.2.2->en-core-web-trf==3.8.0) (3.2.0)\n",
            "Requirement already satisfied: sympy==1.13.1 in /usr/local/lib/python3.11/dist-packages (from torch>=1.12.0->spacy-curated-transformers<1.0.0,>=0.2.2->en-core-web-trf==3.8.0) (1.13.1)\n",
            "Requirement already satisfied: mpmath<1.4,>=1.1.0 in /usr/local/lib/python3.11/dist-packages (from sympy==1.13.1->torch>=1.12.0->spacy-curated-transformers<1.0.0,>=0.2.2->en-core-web-trf==3.8.0) (1.3.0)\n",
            "Requirement already satisfied: MarkupSafe>=2.0 in /usr/local/lib/python3.11/dist-packages (from jinja2->torch>=1.12.0->spacy-curated-transformers<1.0.0,>=0.2.2->en-core-web-trf==3.8.0) (3.0.2)\n",
            "\u001b[38;5;2m✔ Download and installation successful\u001b[0m\n",
            "You can now load the package via spacy.load('en_core_web_trf')\n",
            "\u001b[38;5;3m⚠ Restart to reload dependencies\u001b[0m\n",
            "If you are in a Jupyter or Colab notebook, you may need to restart Python in\n",
            "order to load all the package's dependencies. You can do this by selecting the\n",
            "'Restart kernel' or 'Restart runtime' option.\n"
          ]
        }
      ]
    },
    {
      "cell_type": "markdown",
      "source": [
        "### Compare Entity Recognition: en_core_web_sm vs en_core_web_trf"
      ],
      "metadata": {
        "id": "USjdwTEsBcJe"
      }
    },
    {
      "cell_type": "code",
      "source": [
        "from IPython.display import display, HTML\n",
        "\n",
        "nlp_sm = spacy.load(\"en_core_web_sm\")\n",
        "nlp_trf = spacy.load(\"en_core_web_trf\")\n",
        "\n",
        "# Input sample text\n",
        "sample = (\n",
        "    \"Elon Musk visited the United Nations headquarters in Pakistan. \"\n",
        "    \"OpenAI was also there. Emmanuel Macron spoke at the World Economic Forum 2025 in Switzerland.\"\n",
        ")\n",
        "doc_sm = nlp_sm(sample)\n",
        "doc_trf = nlp_trf(sample)\n",
        "\n",
        "# Custom color scheme\n",
        "colors = {\n",
        "    \"PERSON\": \"linear-gradient(90deg, #aa9cfc, #fc9ce7)\",\n",
        "    \"ORG\": \"linear-gradient(90deg, #fbc2eb, #a6c1ee)\",\n",
        "    \"GPE\": \"linear-gradient(90deg, #fddb92, #d1fdff)\",\n",
        "    \"DATE\": \"linear-gradient(90deg, #f6d365, #fda085)\",\n",
        "    \"LOC\": \"linear-gradient(90deg, #84fab0, #8fd3f4)\",\n",
        "    \"NORP\": \"linear-gradient(90deg, #d4fc79, #96e6a1)\",\n",
        "    \"EVENT\": \"linear-gradient(90deg, #ffecd2, #fcb69f)\"\n",
        "}\n",
        "options = {\"ents\": list(colors.keys()), \"colors\": colors}\n",
        "\n",
        "# Print plain text results\n",
        "print(\"🔹 SMALL Model (en_core_web_sm):\")\n",
        "for ent in doc_sm.ents:\n",
        "    print(ent.text, \"->\", ent.label_)\n",
        "print(\"\\n🔹 TRANSFORMER Model (en_core_web_trf):\")\n",
        "for ent in doc_trf.ents:\n",
        "    print(ent.text, \"->\", ent.label_)\n",
        "\n",
        "# Render visual output\n",
        "print(\"<h3 style='color:#6a1b9a;'>🔹 en_core_web_sm</h3>\")\n",
        "displacy.render(doc_sm, style=\"ent\", options=options, jupyter=True)\n",
        "print(\"<h3 style='color:#2e7d32;'>🔹 en_core_web_trf</h3>\")\n",
        "displacy.render(doc_trf, style=\"ent\", options=options, jupyter=True)"
      ],
      "metadata": {
        "colab": {
          "base_uri": "https://localhost:8080/",
          "height": 574
        },
        "id": "ofjcyb-g4Rcy",
        "outputId": "36d6e8d4-ec17-40a0-fa61-ec838c312c7e"
      },
      "execution_count": null,
      "outputs": [
        {
          "output_type": "stream",
          "name": "stdout",
          "text": [
            "🔹 SMALL Model (en_core_web_sm):\n",
            "Elon Musk -> PERSON\n",
            "the United Nations -> ORG\n",
            "Pakistan -> GPE\n",
            "OpenAI -> PERSON\n",
            "Emmanuel Macron -> PERSON\n",
            "the World Economic Forum -> ORG\n",
            "2025 -> DATE\n",
            "Switzerland -> GPE\n",
            "\n",
            "🔹 TRANSFORMER Model (en_core_web_trf):\n",
            "Elon Musk -> PERSON\n",
            "United Nations -> ORG\n",
            "Pakistan -> GPE\n",
            "OpenAI -> ORG\n",
            "Emmanuel Macron -> PERSON\n",
            "the World Economic Forum 2025 -> EVENT\n",
            "Switzerland -> GPE\n",
            "<h3 style='color:#6a1b9a;'>🔹 en_core_web_sm</h3>\n"
          ]
        },
        {
          "output_type": "display_data",
          "data": {
            "text/plain": [
              "<IPython.core.display.HTML object>"
            ],
            "text/html": [
              "<span class=\"tex2jax_ignore\"><div class=\"entities\" style=\"line-height: 2.5; direction: ltr\">\n",
              "<mark class=\"entity\" style=\"background: linear-gradient(90deg, #aa9cfc, #fc9ce7); padding: 0.45em 0.6em; margin: 0 0.25em; line-height: 1; border-radius: 0.35em;\">\n",
              "    Elon Musk\n",
              "    <span style=\"font-size: 0.8em; font-weight: bold; line-height: 1; border-radius: 0.35em; vertical-align: middle; margin-left: 0.5rem\">PERSON</span>\n",
              "</mark>\n",
              " visited \n",
              "<mark class=\"entity\" style=\"background: linear-gradient(90deg, #fbc2eb, #a6c1ee); padding: 0.45em 0.6em; margin: 0 0.25em; line-height: 1; border-radius: 0.35em;\">\n",
              "    the United Nations\n",
              "    <span style=\"font-size: 0.8em; font-weight: bold; line-height: 1; border-radius: 0.35em; vertical-align: middle; margin-left: 0.5rem\">ORG</span>\n",
              "</mark>\n",
              " headquarters in \n",
              "<mark class=\"entity\" style=\"background: linear-gradient(90deg, #fddb92, #d1fdff); padding: 0.45em 0.6em; margin: 0 0.25em; line-height: 1; border-radius: 0.35em;\">\n",
              "    Pakistan\n",
              "    <span style=\"font-size: 0.8em; font-weight: bold; line-height: 1; border-radius: 0.35em; vertical-align: middle; margin-left: 0.5rem\">GPE</span>\n",
              "</mark>\n",
              ". \n",
              "<mark class=\"entity\" style=\"background: linear-gradient(90deg, #aa9cfc, #fc9ce7); padding: 0.45em 0.6em; margin: 0 0.25em; line-height: 1; border-radius: 0.35em;\">\n",
              "    OpenAI\n",
              "    <span style=\"font-size: 0.8em; font-weight: bold; line-height: 1; border-radius: 0.35em; vertical-align: middle; margin-left: 0.5rem\">PERSON</span>\n",
              "</mark>\n",
              " was also there. \n",
              "<mark class=\"entity\" style=\"background: linear-gradient(90deg, #aa9cfc, #fc9ce7); padding: 0.45em 0.6em; margin: 0 0.25em; line-height: 1; border-radius: 0.35em;\">\n",
              "    Emmanuel Macron\n",
              "    <span style=\"font-size: 0.8em; font-weight: bold; line-height: 1; border-radius: 0.35em; vertical-align: middle; margin-left: 0.5rem\">PERSON</span>\n",
              "</mark>\n",
              " spoke at \n",
              "<mark class=\"entity\" style=\"background: linear-gradient(90deg, #fbc2eb, #a6c1ee); padding: 0.45em 0.6em; margin: 0 0.25em; line-height: 1; border-radius: 0.35em;\">\n",
              "    the World Economic Forum\n",
              "    <span style=\"font-size: 0.8em; font-weight: bold; line-height: 1; border-radius: 0.35em; vertical-align: middle; margin-left: 0.5rem\">ORG</span>\n",
              "</mark>\n",
              " \n",
              "<mark class=\"entity\" style=\"background: linear-gradient(90deg, #f6d365, #fda085); padding: 0.45em 0.6em; margin: 0 0.25em; line-height: 1; border-radius: 0.35em;\">\n",
              "    2025\n",
              "    <span style=\"font-size: 0.8em; font-weight: bold; line-height: 1; border-radius: 0.35em; vertical-align: middle; margin-left: 0.5rem\">DATE</span>\n",
              "</mark>\n",
              " in \n",
              "<mark class=\"entity\" style=\"background: linear-gradient(90deg, #fddb92, #d1fdff); padding: 0.45em 0.6em; margin: 0 0.25em; line-height: 1; border-radius: 0.35em;\">\n",
              "    Switzerland\n",
              "    <span style=\"font-size: 0.8em; font-weight: bold; line-height: 1; border-radius: 0.35em; vertical-align: middle; margin-left: 0.5rem\">GPE</span>\n",
              "</mark>\n",
              ".</div></span>"
            ]
          },
          "metadata": {}
        },
        {
          "output_type": "stream",
          "name": "stdout",
          "text": [
            "<h3 style='color:#2e7d32;'>🔹 en_core_web_trf</h3>\n"
          ]
        },
        {
          "output_type": "display_data",
          "data": {
            "text/plain": [
              "<IPython.core.display.HTML object>"
            ],
            "text/html": [
              "<span class=\"tex2jax_ignore\"><div class=\"entities\" style=\"line-height: 2.5; direction: ltr\">\n",
              "<mark class=\"entity\" style=\"background: linear-gradient(90deg, #aa9cfc, #fc9ce7); padding: 0.45em 0.6em; margin: 0 0.25em; line-height: 1; border-radius: 0.35em;\">\n",
              "    Elon Musk\n",
              "    <span style=\"font-size: 0.8em; font-weight: bold; line-height: 1; border-radius: 0.35em; vertical-align: middle; margin-left: 0.5rem\">PERSON</span>\n",
              "</mark>\n",
              " visited the \n",
              "<mark class=\"entity\" style=\"background: linear-gradient(90deg, #fbc2eb, #a6c1ee); padding: 0.45em 0.6em; margin: 0 0.25em; line-height: 1; border-radius: 0.35em;\">\n",
              "    United Nations\n",
              "    <span style=\"font-size: 0.8em; font-weight: bold; line-height: 1; border-radius: 0.35em; vertical-align: middle; margin-left: 0.5rem\">ORG</span>\n",
              "</mark>\n",
              " headquarters in \n",
              "<mark class=\"entity\" style=\"background: linear-gradient(90deg, #fddb92, #d1fdff); padding: 0.45em 0.6em; margin: 0 0.25em; line-height: 1; border-radius: 0.35em;\">\n",
              "    Pakistan\n",
              "    <span style=\"font-size: 0.8em; font-weight: bold; line-height: 1; border-radius: 0.35em; vertical-align: middle; margin-left: 0.5rem\">GPE</span>\n",
              "</mark>\n",
              ". \n",
              "<mark class=\"entity\" style=\"background: linear-gradient(90deg, #fbc2eb, #a6c1ee); padding: 0.45em 0.6em; margin: 0 0.25em; line-height: 1; border-radius: 0.35em;\">\n",
              "    OpenAI\n",
              "    <span style=\"font-size: 0.8em; font-weight: bold; line-height: 1; border-radius: 0.35em; vertical-align: middle; margin-left: 0.5rem\">ORG</span>\n",
              "</mark>\n",
              " was also there. \n",
              "<mark class=\"entity\" style=\"background: linear-gradient(90deg, #aa9cfc, #fc9ce7); padding: 0.45em 0.6em; margin: 0 0.25em; line-height: 1; border-radius: 0.35em;\">\n",
              "    Emmanuel Macron\n",
              "    <span style=\"font-size: 0.8em; font-weight: bold; line-height: 1; border-radius: 0.35em; vertical-align: middle; margin-left: 0.5rem\">PERSON</span>\n",
              "</mark>\n",
              " spoke at \n",
              "<mark class=\"entity\" style=\"background: linear-gradient(90deg, #ffecd2, #fcb69f); padding: 0.45em 0.6em; margin: 0 0.25em; line-height: 1; border-radius: 0.35em;\">\n",
              "    the World Economic Forum 2025\n",
              "    <span style=\"font-size: 0.8em; font-weight: bold; line-height: 1; border-radius: 0.35em; vertical-align: middle; margin-left: 0.5rem\">EVENT</span>\n",
              "</mark>\n",
              " in \n",
              "<mark class=\"entity\" style=\"background: linear-gradient(90deg, #fddb92, #d1fdff); padding: 0.45em 0.6em; margin: 0 0.25em; line-height: 1; border-radius: 0.35em;\">\n",
              "    Switzerland\n",
              "    <span style=\"font-size: 0.8em; font-weight: bold; line-height: 1; border-radius: 0.35em; vertical-align: middle; margin-left: 0.5rem\">GPE</span>\n",
              "</mark>\n",
              ".</div></span>"
            ]
          },
          "metadata": {}
        }
      ]
    }
  ]
}